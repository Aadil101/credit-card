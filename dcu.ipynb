{
 "metadata": {
  "language_info": {
   "codemirror_mode": {
    "name": "ipython",
    "version": 3
   },
   "file_extension": ".py",
   "mimetype": "text/x-python",
   "name": "python",
   "nbconvert_exporter": "python",
   "pygments_lexer": "ipython3",
   "version": "3.9.2-final"
  },
  "orig_nbformat": 2,
  "kernelspec": {
   "name": "python392jvsc74a57bd0364b29872ddfcab1ec8c2399879a7f7be1d46986036ed92c25eb3e86b8ade17f",
   "display_name": "Python 3.9.2 64-bit ('3.9.2': pyenv)",
   "language": "python"
  }
 },
 "nbformat": 4,
 "nbformat_minor": 2,
 "cells": [
  {
   "cell_type": "code",
   "execution_count": 14,
   "metadata": {},
   "outputs": [],
   "source": [
    "from selenium import webdriver\n",
    "from selenium.webdriver.common.keys import Keys\n",
    "from selenium.webdriver.support.ui import WebDriverWait\n",
    "from selenium.webdriver.support import expected_conditions as EC\n",
    "from selenium.webdriver.common.by import By\n",
    "from selenium.webdriver.chrome.options import Options\n",
    "import imaplib, email\n",
    "from bs4 import BeautifulSoup\n",
    "import re\n",
    "from time import sleep\n",
    "import pandas as pd\n",
    "import math\n",
    "import yaml"
   ]
  },
  {
   "cell_type": "code",
   "execution_count": 15,
   "metadata": {},
   "outputs": [],
   "source": [
    "with open('config.yml', 'r') as stream:\n",
    "    try:\n",
    "        config = yaml.safe_load(stream)\n",
    "    except yaml.YAMLError as exc:\n",
    "        print(exc)"
   ]
  },
  {
   "cell_type": "code",
   "execution_count": 16,
   "metadata": {},
   "outputs": [],
   "source": [
    "options = webdriver.ChromeOptions()\n",
    "options.add_argument(\"user-data-dir={}\".format(config['user-data-dir']))"
   ]
  },
  {
   "source": [
    "driver = webdriver.Chrome(executable_path='./chromedriver', options=options); sleep(5)"
   ],
   "cell_type": "code",
   "metadata": {},
   "execution_count": 17,
   "outputs": [
    {
     "output_type": "stream",
     "name": "stderr",
     "text": [
      "<ipython-input-17-296c857d7a15>:1: DeprecationWarning: use options instead of chrome_options\n  driver = webdriver.Chrome(executable_path='./chromedriver', chrome_options=options); sleep(5)\n"
     ]
    }
   ]
  },
  {
   "cell_type": "code",
   "execution_count": 18,
   "metadata": {},
   "outputs": [],
   "source": [
    "def login():\n",
    "    # function to search for a key value pair \n",
    "    def search(client, key, value): \n",
    "        result, _bytes = client.search(None, key, '\"{}\"'.format(value))\n",
    "        return _bytes\n",
    "    # login to DCU\n",
    "    driver.get(config['url']['login']); sleep(5) \n",
    "    driver.find_element_by_id('username').send_keys(config['dcu']['member-number']); sleep(5) \n",
    "    driver.find_element_by_id('password').send_keys(config['dcu']['password']); sleep(5) \n",
    "    driver.find_element_by_id('loginButton').send_keys(Keys.RETURN); sleep(10)\n",
    "    if driver.current_url == config['url']['mfa']:\n",
    "        driver.find_element_by_name('sendOTP').send_keys(Keys.RETURN); sleep(60)\n",
    "        # login to Gmail\n",
    "        client = imaplib.IMAP4_SSL('imap.gmail.com') \n",
    "        client.login(config['email']['address'], config['email']['password']) \n",
    "        _ = client.select('Inbox') \n",
    "        uids = search(client, 'FROM', 'dcu@dcu.org')[0].split()\n",
    "        _, latest_email_bytes = client.fetch(uids[-1], '(RFC822)')\n",
    "        latest_email_text = str(latest_email_bytes[0][1])\n",
    "        soup = BeautifulSoup(latest_email_text, 'lxml')\n",
    "        pattern_1 = re.compile(r'passcode is (\\d+)')\n",
    "        code = pattern_1.findall(soup.find_all(text=pattern_1)[0])[0]\n",
    "        # 2-factor\n",
    "        driver.find_element_by_id('mfaCodeInputField').send_keys(code); sleep(5)\n",
    "        driver.find_element_by_name('registerDevice').send_keys(Keys.RETURN); sleep(5)\n",
    "        driver.refresh(); sleep(5)\n",
    "    if driver.current_url == config['url']['home']:\n",
    "        return\n",
    "    else:\n",
    "        print('uh-oh')\n",
    "login()"
   ]
  },
  {
   "cell_type": "code",
   "execution_count": 19,
   "metadata": {},
   "outputs": [],
   "source": [
    "def get_new_balance():\n",
    "    try:\n",
    "        driver.find_element_by_xpath(\"//a[@aria-label='e-Statements']\").send_keys(Keys.RETURN); sleep(5)\n",
    "    except:\n",
    "        driver.find_element_by_class_name('navbar-toggle').send_keys(Keys.RETURN); sleep(5)\n",
    "        driver.find_element_by_link_text(\"e-Statements\").click(); sleep(5)\n",
    "    driver.switch_to.frame(driver.find_element_by_tag_name(\"iframe\")); sleep(5)\n",
    "    driver.find_elements_by_xpath('//input[@type=\"submit\"]')[1].click(); sleep(5)\n",
    "    table = driver.find_element_by_xpath(\"//table[@summary='Summary of Account Activity']\")\n",
    "    html = table.get_attribute('outerHTML')\n",
    "    table_pd = pd.read_html(html, index_col=0)[0]\n",
    "    new_balance = float(table_pd.loc['New Balance', 1])\n",
    "    since_date = driver.find_element_by_xpath('//select[@name=\"HistoryID\"]').find_elements_by_xpath('//option')[0].text.strip(); sleep(5)\n",
    "    driver.get(config['url']['home']); sleep(5)\n",
    "    return new_balance, since_date\n",
    "new_balance, since_date = get_new_balance()"
   ]
  },
  {
   "cell_type": "code",
   "execution_count": 20,
   "metadata": {},
   "outputs": [],
   "source": [
    "def is_new_balance_paid():\n",
    "    driver.find_element_by_xpath('//a[@title=\"{}\"]'.format(config['to-account'])).click(); sleep(5)\n",
    "    try:\n",
    "        driver.find_element_by_id('dLabeldate_range').click(); sleep(5)\n",
    "    except:\n",
    "        driver.maximize_window()\n",
    "        driver.find_element_by_id('dLabeldate_range').click(); sleep(5)\n",
    "    driver.find_element_by_xpath('//input[@type=\"text\"]').click(); sleep(5)\n",
    "    driver.find_element_by_xpath('//input[@type=\"text\"]').send_keys(since_date); sleep(5)\n",
    "    driver.find_element_by_id('date_range_go').click(); sleep(5)\n",
    "    table = driver.find_element_by_xpath('//table[@class=\"table cardlytics_history_table\"]')\n",
    "    html = table.get_attribute('outerHTML')\n",
    "    table_pd = pd.read_html(html)[0]\n",
    "    payments = table_pd[table_pd['Description'].str.contains('PAYMENT')]\n",
    "    payment_amounts = payments['Amount'].apply(lambda x: x[1:x.index('Applied') if 'Applied' in x else len(x)]).astype(float).tolist()\n",
    "    driver.back(); sleep(5)\n",
    "    return new_balance in payment_amounts\n",
    "is_paid = is_new_balance_paid()"
   ]
  },
  {
   "cell_type": "code",
   "execution_count": 24,
   "metadata": {},
   "outputs": [],
   "source": [
    "def move_money(from_account, to_account, amount):\n",
    "    driver.find_element_by_id('transferLinkaccounts').click(); sleep(5)\n",
    "    from_dropdown, to_dropdown = driver.find_elements_by_class_name('dropdown'); sleep(5)\n",
    "    accounts = from_dropdown.find_elements_by_xpath('//div[starts-with(@id, \"listAccountDescription\")]')\n",
    "    from_dropdown_accounts, to_dropdown_accounts = accounts[:3], accounts[3:]\n",
    "    from_dropdown.click(); sleep(5)\n",
    "    from_dropdown_account_description_2_balance = dict(zip([item.text for item in from_dropdown_accounts], [float(item.text[1:].replace(',', '')) for item in driver.find_elements_by_xpath('//span[starts-with(@id, \"accountBalance\")]') if item.text != '']))\n",
    "    from_account_balance = from_dropdown_account_description_2_balance[from_account]\n",
    "    from_account_i = list(from_dropdown_account_description_2_balance.keys()).index(from_account)\n",
    "    if from_account_balance >= config['from-account-keep']+amount:\n",
    "        from_dropdown_accounts[from_account_i].click(); sleep(5)\n",
    "        to_dropdown.click(); sleep(5)\n",
    "        to_dropdown_account_description_2_balance = dict(zip([item.text for item in to_dropdown_accounts], [float(item.text[1:].replace(',', '')) for item in driver.find_elements_by_xpath('//span[starts-with(@id, \"accountBalance\")]') if item.text != '']))\n",
    "        to_account_i = list(to_dropdown_account_description_2_balance.keys()).index(to_account)\n",
    "        to_dropdown_accounts[to_account_i].click(); sleep(5)\n",
    "        try:\n",
    "            driver.find_element_by_id('otherAmountRadio').click(); sleep(5)\n",
    "            driver.find_element_by_id('otherAmountValue').send_keys(str(amount)); sleep(5)\n",
    "        except:\n",
    "            driver.find_element_by_id('amountInputField').send_keys(str(amount)); sleep(5)\n",
    "        driver.find_element_by_id('makeTransfer').click(); sleep(10)\n",
    "        driver.find_element_by_id('transfersConfirmationConfirmButton').click(); sleep(10)\n",
    "        driver.find_element_by_id('accountsButton').click(); sleep(5)\n",
    "        return True\n",
    "    else:\n",
    "        cursory_amount = math.ceil(config['from-account-keep'] + amount - from_account_balance)\n",
    "        driver.get(config['url']['home']); sleep(5)\n",
    "        success = move_money(config['pool-account'], from_account, cursory_amount)\n",
    "        if success:\n",
    "            return move_money(from_account, to_account, amount)\n",
    "        else:\n",
    "            return False\n",
    "if not is_paid:\n",
    "    success = move_money(config['from-account'], config['to-account'], new_balance)\n",
    "    if not success:\n",
    "        print('uh-oh')"
   ]
  },
  {
   "cell_type": "code",
   "execution_count": 13,
   "metadata": {},
   "outputs": [],
   "source": [
    "driver.quit()"
   ]
  },
  {
   "cell_type": "code",
   "execution_count": null,
   "metadata": {},
   "outputs": [],
   "source": []
  }
 ]
}